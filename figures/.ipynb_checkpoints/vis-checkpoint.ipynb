{
 "cells": [
  {
   "cell_type": "code",
   "execution_count": null,
   "metadata": {},
   "outputs": [],
   "source": [
    "import pandas as pd\n",
    "import numpy as np\n",
    "from numpy import isnan\n",
    "from pandas import isna\n",
    "\n",
    "from IPython.display import display\n",
    "\n",
    "dat = pd.read_csv(\"all_dat.csv\")\n",
    "dat = dat.drop(columns=[\"Unnamed: 0\", \"CVD_Point\", \"cvd_risk\", \"cvd_class\"])\n",
    "\n",
    "display(dat.shape)"
   ]
  },
  {
   "cell_type": "markdown",
   "metadata": {},
   "source": [
    "# The Confusion matrix showing the final result"
   ]
  },
  {
   "cell_type": "code",
   "execution_count": 33,
   "metadata": {},
   "outputs": [
    {
     "data": {
      "image/png": "[encoded data removed]",
      "text/plain": [
       "<Figure size 432x288 with 2 Axes>"
      ]
     },
     "metadata": {
      "needs_background": "light"
     },
     "output_type": "display_data"
    }
   ],
   "source": [
    "from sklearn.metrics import ConfusionMatrixDisplay, plot_confusion_matrix\n",
    "import matplotlib.pyplot as plt\n",
    "\n",
    "tmp = pd.read_csv(\"predict.csv\")\n",
    "\n",
    "def num_to_lab(gen):\n",
    "    for l in gen:\n",
    "        if l == 1:\n",
    "            yield \"low\"\n",
    "        if l == 2:\n",
    "            yield \"medium\"\n",
    "        if l == 3:\n",
    "            yield \"high\"\n",
    "\n",
    "        if l not in (1,2,3):\n",
    "            raise Exception\n",
    "\n",
    "\n",
    "ConfusionMatrixDisplay.from_predictions(\n",
    "    list(num_to_lab(tmp.y_true)),\n",
    "    list(num_to_lab(tmp.y_test)),\n",
    "    labels=[\"low\", \"medium\", \"high\"],\n",
    ")\n",
    "plt.show()\n"
   ]
  },
  {
   "cell_type": "markdown",
   "metadata": {},
   "source": [
    "# The boxplot comparing different models"
   ]
  },
  {
   "cell_type": "code",
   "execution_count": 34,
   "metadata": {},
   "outputs": [
    {
     "data": {
      "image/png": "[encoded data removed]",
      "text/plain": [
       "<Figure size 432x288 with 1 Axes>"
      ]
     },
     "metadata": {
      "needs_background": "light"
     },
     "output_type": "display_data"
    },
    {
     "data": {
      "text/html": [
       "<div>\n",
       "<style scoped>\n",
       "    .dataframe tbody tr th:only-of-type {\n",
       "        vertical-align: middle;\n",
       "    }\n",
       "\n",
       "    .dataframe tbody tr th {\n",
       "        vertical-align: top;\n",
       "    }\n",
       "\n",
       "    .dataframe thead th {\n",
       "        text-align: right;\n",
       "    }\n",
       "</style>\n",
       "<table border=\"1\" class=\"dataframe\">\n",
       "  <thead>\n",
       "    <tr style=\"text-align: right;\">\n",
       "      <th></th>\n",
       "      <th>Accuracy</th>\n",
       "      <th>Recall</th>\n",
       "      <th>F1 score</th>\n",
       "    </tr>\n",
       "  </thead>\n",
       "  <tbody>\n",
       "    <tr>\n",
       "      <th>Random Forest</th>\n",
       "      <td>0.605687</td>\n",
       "      <td>0.600198</td>\n",
       "      <td>0.578921</td>\n",
       "    </tr>\n",
       "    <tr>\n",
       "      <th>Decision Tree</th>\n",
       "      <td>0.624712</td>\n",
       "      <td>0.733021</td>\n",
       "      <td>0.648783</td>\n",
       "    </tr>\n",
       "  </tbody>\n",
       "</table>\n",
       "</div>"
      ],
      "text/plain": [
       "               Accuracy    Recall  F1 score\n",
       "Random Forest  0.605687  0.600198  0.578921\n",
       "Decision Tree  0.624712  0.733021  0.648783"
      ]
     },
     "execution_count": 34,
     "metadata": {},
     "output_type": "execute_result"
    }
   ],
   "source": [
    "import matplotlib.pyplot as plt\n",
    "df = pd.read_csv(\"tmp1.csv\")\n",
    "\n",
    "df.columns = [\n",
    "    \"Full feature KNN\",\n",
    "    \"Full feature SVM\",\n",
    "    \"Full feature RF\",\n",
    "    \"Full feature DT\",\n",
    "    \"Feature selected KNN\",\n",
    "    \"Feature selected SVM\",\n",
    "    \"Feature selected RF\",\n",
    "    \"Feature selected DT\",\n",
    "]\n",
    "\n",
    "cols = []\n",
    "labels = []\n",
    "for col in df:\n",
    "    cols.append(df[col].to_list())\n",
    "    labels.append(col)\n",
    "\n",
    "plt.boxplot(cols, labels=labels, vert=False)\n",
    "plt.xlabel(\"Accuracy\")\n",
    "plt.show()\n",
    "\n",
    "tmp = [\"Random Forest\", \"Decision Tree\"]\n",
    "\n",
    "f1 = pd.DataFrame(pd.read_csv(\"tmp2.csv\").median())\n",
    "f1 = f1.T\n",
    "f1.columns = tmp\n",
    "f1 = f1.T\n",
    "f1.columns = ['F1 score']\n",
    "\n",
    "recall = pd.DataFrame(pd.read_csv(\"tmp3.csv\").median())\n",
    "recall = recall.T\n",
    "recall.columns = tmp\n",
    "recall = recall.T\n",
    "recall.columns = ['Recall']\n",
    "\n",
    "acc = pd.DataFrame(pd.read_csv(\"tmp1.csv\").median())\n",
    "acc = acc.T[['boruta_rf', 'boruta_tree']]\n",
    "acc.columns = tmp\n",
    "acc = acc.T\n",
    "acc.columns = [\"Accuracy\"]\n",
    "\n",
    "pd.concat((acc, recall, f1), axis=1)"
   ]
  }
 ],
 "metadata": {
  "kernelspec": {
   "display_name": "Python 3",
   "language": "python",
   "name": "python3"
  },
  "language_info": {
   "codemirror_mode": {
    "name": "ipython",
    "version": 3
   },
   "file_extension": ".py",
   "mimetype": "text/x-python",
   "name": "python",
   "nbconvert_exporter": "python",
   "pygments_lexer": "ipython3",
   "version": "3.8.8"
  }
 },
 "nbformat": 4,
 "nbformat_minor": 2
}
